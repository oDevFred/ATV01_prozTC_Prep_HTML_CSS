{
  "nbformat": 4,
  "nbformat_minor": 0,
  "metadata": {
    "colab": {
      "provenance": []
    },
    "kernelspec": {
      "name": "python3",
      "display_name": "Python 3"
    },
    "language_info": {
      "name": "python"
    }
  },
  "cells": [
    {
      "cell_type": "markdown",
      "source": [
        "# **Atividade 01**\n",
        "\n",
        "Declare dois arrays, cada um com um mínimo de cinco elementos, e imprima eles no terminal usando o comando print(). O primeiro array deve conter os produtos de uma loja da sua escolha (loja de comida, materiais de construção, música, etc). O segundo array deve conter os anos de nascimento de familiares e amigos seus. Lembre-se de usar nomes descritivos para nomear cada variável, e de usar o tipo de dado apropriado para cada lista (strings, booleanos, números inteiros, floats)."
      ],
      "metadata": {
        "id": "PdA7K1kJ8jTq"
      }
    },
    {
      "cell_type": "code",
      "source": [
        "intens_loja = ['shampoo', 'condicionador', 'blush', 'esmalte', 'creme'];\n",
        "ano_nasc = [2002, 2001, 1978, 1997, 2018];\n",
        "\n",
        "print(intens_loja);\n",
        "print(ano_nasc);"
      ],
      "metadata": {
        "colab": {
          "base_uri": "https://localhost:8080/"
        },
        "id": "cig8XVih8qUB",
        "outputId": "b494e2bf-ef51-4c94-fd47-341a4a02409a"
      },
      "execution_count": 2,
      "outputs": [
        {
          "output_type": "stream",
          "name": "stdout",
          "text": [
            "['shampoo', 'condicionador', 'blush', 'esmalte', 'creme']\n",
            "[2002, 2001, 1978, 1997, 2018]\n"
          ]
        }
      ]
    }
  ]
}